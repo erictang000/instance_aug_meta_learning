{
 "cells": [
  {
   "cell_type": "code",
   "execution_count": 1,
   "metadata": {},
   "outputs": [],
   "source": [
    "# -*- coding: utf-8 -*-\n",
    "import os\n",
    "import argparse\n",
    "import random\n",
    "import numpy as np\n",
    "import torch\n",
    "import torch.nn.functional as F\n",
    "from torch.utils.data import DataLoader\n",
    "from torch.autograd import Variable\n",
    "import torchvision.transforms as transforms\n",
    "\n",
    "\n",
    "from metadatas import *\n",
    "from augmentations import *\n",
    "\n",
    "from models.classification_heads import ClassificationHead, R2D2Head\n",
    "from models.classification_heads import ClassificationHead_Mixup, R2D2Head_Mixup\n",
    "from models.R2D2_embedding import R2D2Embedding\n",
    "from models.R2D2_embedding_mixup import R2D2Embedding_mixup\n",
    "from models.protonet_embedding import ProtoNetEmbedding\n",
    "from models.ResNet12_embedding import resnet12 \n",
    "from models.ResNet12_embedding_mixup import resnet12_mixup \n",
    "from InstaAug_module import learnable_invariance\n",
    "\n",
    "from utils import set_gpu, Timer, count_accuracy, count_accuracy_mixup, check_dir, log\n",
    "import matplotlib.pyplot as plt\n",
    "\n",
    "import pdb\n",
    "import time\n",
    "import wandb\n",
    "import yaml\n",
    "\n",
    "\n",
    "#np.seterr(all='raise')\n",
    "\n",
    "def mixup_data(x, y, lam, use_cuda=False):\n",
    "    '''Returns mixed inputs, pairs of targets, and lambda'''\n",
    "    batch_size = x.size()[0]\n",
    "    if use_cuda:\n",
    "        index = torch.randperm(batch_size).to(DEVICE)\n",
    "    else:\n",
    "        index = torch.randperm(batch_size)\n",
    "\n",
    "    mixed_x = lam * x + (1 - lam) * x[index, :]\n",
    "    y_a, y_b = y, y[index]\n",
    "    return mixed_x, y_a, y_b\n",
    "\n",
    "\n",
    "def mixup_criterion(criterion, pred, y_a, y_b, lam):\n",
    "    loss = 0.\n",
    "    for i in range(len(pred)):\n",
    "        loss += lam[i] * criterion(pred[i], y_a[i]) + (1 - lam[i]) * criterion(pred[i], y_b[i])\n",
    "\n",
    "    return loss/len(pred)\n",
    "\n",
    "\n",
    "def one_hot(indices, depth):\n",
    "    \"\"\"\n",
    "    Returns a one-hot tensor.\n",
    "    This is a PyTorch equivalent of Tensorflow's tf.one_hot.\n",
    "        \n",
    "    Parameters:\n",
    "      indices:  a (n_batch, m) Tensor or (m) Tensor.\n",
    "      depth: a scalar. Represents the depth of the one hot dimension.\n",
    "    Returns: a (n_batch, m, depth) Tensor or (m, depth) Tensor.\n",
    "    \"\"\"\n",
    "\n",
    "    encoded_indicies = torch.zeros(indices.size() + torch.Size([depth])).to(DEVICE)\n",
    "    index = indices.view(indices.size()+torch.Size([1]))\n",
    "    encoded_indicies = encoded_indicies.scatter_(1,index,1)\n",
    "    \n",
    "    return encoded_indicies\n",
    "\n",
    "def get_model(options):\n",
    "    # Choose the embedding network\n",
    "    if options.network == 'ProtoNet':\n",
    "        network = ProtoNetEmbedding().to(DEVICE)\n",
    "    elif options.network == 'R2D2':\n",
    "        network = R2D2Embedding().to(DEVICE)\n",
    "    elif options.network == 'R2D2_mixup':\n",
    "        network = R2D2Embedding_mixup().to(DEVICE)\n",
    "    elif options.network == 'ResNet_mixup':\n",
    "        network = resnet12_mixup(avg_pool=False, drop_rate=0.1, dropblock_size=2).to(DEVICE)\n",
    "    elif options.network == 'ResNet':\n",
    "        if options.dataset == 'miniImageNet' or options.dataset == 'tieredImageNet':\n",
    "            network = resnet12(avg_pool=False, drop_rate=0.1, dropblock_size=4).to(DEVICE)\n",
    "            network = torch.nn.DataParallel(network)\n",
    "        else:\n",
    "            network = resnet12(avg_pool=False, drop_rate=0.1, dropblock_size=2).to(DEVICE)\n",
    "            network = torch.nn.DataParallel(network)\n",
    "    else:\n",
    "        print (\"Cannot recognize the network type\")\n",
    "        assert(False)\n",
    "        \n",
    "    # Choose the classification head\n",
    "    if options.head == 'ProtoNet':\n",
    "        cls_head = ClassificationHead(base_learner='ProtoNet').to(DEVICE)\n",
    "    elif options.head == 'Ridge':\n",
    "        cls_head = ClassificationHead(base_learner='Ridge').to(DEVICE)\n",
    "    elif options.head == 'R2D2':\n",
    "        cls_head = R2D2Head().to(DEVICE) \n",
    "    elif options.head == 'SVM':\n",
    "        cls_head = ClassificationHead(base_learner='SVM-CS').to(DEVICE)\n",
    "    else:\n",
    "        print (\"Cannot recognize the dataset type\")\n",
    "        assert(False)\n",
    "        \n",
    "    if options.support_aug and 'mix' in options.support_aug:\n",
    "        if options.head == 'R2D2':\n",
    "            cls_head_mixup = R2D2Head_Mixup().to(DEVICE)\n",
    "        elif options.head == 'SVM':\n",
    "            cls_head_mixup = ClassificationHead_Mixup(base_learner='SVM-CS').to(DEVICE)\n",
    "        else:\n",
    "            print(\"Cannot recognize the dataset type\")\n",
    "\n",
    "        return (network, cls_head, cls_head_mixup)\n",
    "        \n",
    "    else:\n",
    "        return (network, cls_head)\n",
    "\n",
    "\n",
    "def get_datasets(name, phase, args):\n",
    "    random_cropping = False if args.no_random_cropping else True\n",
    "    color_jitter = False if args.no_color_jitter else True\n",
    "    \n",
    "    if name == 'miniImageNet':\n",
    "        dataset = MiniImageNet(phase=phase, augment=args.feat_aug, rot90_p=args.t_p, random_cropping=random_cropping, color_jitter=color_jitter)  \n",
    "    elif name == 'CIFAR_FS':\n",
    "        dataset = CIFAR_FS(phase=phase, augment=args.feat_aug, rot90_p=args.t_p, random_cropping=random_cropping, color_jitter=color_jitter)\n",
    "    # elif name == 'FC100':\n",
    "    #     dataset = FC100(phase=phase, augment=args.feat_aug, rot90_p=args.t_p)\n",
    "    else:\n",
    "        print (\"Cannot recognize the dataset type\")\n",
    "        assert(False)\n",
    "    print(dataset)\n",
    "\n",
    "    if phase == 'train':\n",
    "        for ta in args.task_aug:\n",
    "            if ta == 'Rot90':\n",
    "                dataset = Rot90(dataset, p=args.t_p, batch_size_down=8e4)\n",
    "                dataset.batch_num.value += args.num_epoch * 0.\n",
    "            elif ta == 'Mix':\n",
    "                dataset = TaskAug(dataset, \"Mix\", p=args.t_p, batch_size_down=8e4)\n",
    "            elif ta == 'CutMix':\n",
    "                dataset = TaskAug(dataset, \"CutMix\", p=args.t_p, batch_size_down=8e4)\n",
    "            elif ta == 'FMix':\n",
    "                dataset = TaskAug(dataset, \"FMix\", p=args.t_p, batch_size_down=8e4)\n",
    "            elif ta == 'Combine':\n",
    "                dataset = TaskAug(dataset, \"Combine\", p=args.t_p, batch_size_down=8e4)\n",
    "            elif ta == 'DropChannel':\n",
    "                dataset = DropChannels(dataset, p=args.t_p) \n",
    "            elif ta == 'RE':\n",
    "                dataset = RE(dataset, p=args.t_p) \n",
    "            elif ta == 'Solarize':\n",
    "                dataset = Solarize(dataset, p=args.t_p) \n",
    "            else:\n",
    "                print (\"Cannot recognize the task augmentation type\")\n",
    "                continue\n",
    "            print(dataset)\n",
    "\n",
    "    return dataset\n",
    "\n",
    "def apply_instance_aug(instance_aug_module, x, dataset_source=\"CIFAR_FS\"):\n",
    "    '''\n",
    "    Params:\n",
    "        instance_aug_module: torch.Module\n",
    "        x: input data\n",
    "        dataset source: str (either TinyImageNet or CIFAR_FS)\n",
    "\n",
    "    Returns:\n",
    "        instance augmentation applied on x\n",
    "    '''\n",
    "    return instance_aug_module(x)"
   ]
  },
  {
   "cell_type": "code",
   "execution_count": 23,
   "metadata": {},
   "outputs": [],
   "source": [
    "parser = argparse.ArgumentParser()\n",
    "parser.add_argument('--num-epoch', type=int, default=40,\n",
    "                        help='number of training epochs')\n",
    "parser.add_argument('--val-shot', type=int, default=5,\n",
    "                        help='number of support examples per validation class')\n",
    "parser.add_argument('--val-episode', type=int, default=2000,\n",
    "                        help='number of episodes per validation')\n",
    "parser.add_argument('--val-query', type=int, default=15,\n",
    "                        help='number of query examples per validation class')\n",
    "parser.add_argument('--sample-way', type=int, default=5,\n",
    "                        help='number of classes sampled in one training episode (i.e. sample 10 classes for task mixup)')\n",
    "parser.add_argument('--test-way', type=int, default=5,\n",
    "                        help='number of classes in one test (or validation) episode')\n",
    "parser.add_argument('--gpu', default='0')\n",
    "parser.add_argument('--network', type=str, default='ProtoNet',\n",
    "                        help='choose which embedding network to use. ProtoNet, R2D2, ResNet')\n",
    "parser.add_argument('--head', type=str, default='ProtoNet',\n",
    "                        help='choose which classification head to use. ProtoNet, Ridge, R2D2, SVM')\n",
    "parser.add_argument('--dataset', type=str, default='miniImageNet',\n",
    "                        help='choose which classification head to use. miniImageNet, tieredImageNet, CIFAR_FS, FC100')\n",
    "parser.add_argument('--episodes-per-batch', type=int, default=8,\n",
    "                        help='number of episodes per batch')\n",
    "parser.add_argument('--num-per-batch', type=int, default=1000,\n",
    "                        help='number of epoch size per train epoch')\n",
    "parser.add_argument('--eps', type=float, default=0.0,\n",
    "                        help='epsilon of label smoothing')\n",
    "parser.add_argument('--load', default=None,\n",
    "                        help='path of the checkpoint file')\n",
    "## Data Augmentation\n",
    "parser.add_argument('--feat_aug', '-faug', default='norm', type=str,\n",
    "                    help='If use feature level augmentation.')\n",
    "parser.add_argument('--task_aug', '-taug', default=[], nargs='+', type=str,\n",
    "                    help='If use task level data augmentation.')\n",
    "parser.add_argument('--support_aug', '-saug', default=None, type=str,\n",
    "                    help='If use support level data augmentation.')\n",
    "parser.add_argument('--shot_aug', '-shotaug', default=[], nargs='+', type=str,\n",
    "                    help='If use shot level data augmentation.')\n",
    "parser.add_argument('--query_aug', '-qaug', default=[], nargs='+', type=str,\n",
    "                    help='If use query level data augmentation.')\n",
    "parser.add_argument('--t_p', '-tp', default=1, type=float,\n",
    "                    help='The possibility of sampling categories or images with rot90.')\n",
    "parser.add_argument('--s_p', '-sp', default=1, type=float,\n",
    "                    help='The possibility of using support level data augmentation')\n",
    "parser.add_argument('--s_du', '-sdu', default=1, type=int,\n",
    "                    help='number of support examples augmented by shot')\n",
    "parser.add_argument('--q_p', '-qp', default=[], nargs='+', type=float,\n",
    "                    help='The possibility of using query level data augmentation')\n",
    "parser.add_argument('--rot_degree', default=30, type=int,\n",
    "                    help='Degree for random rotation when using rotation in support or query level augmentation.')\n",
    "# New Parser args for instaaug\n",
    "parser.add_argument('--Li_config_path', default=None, type=str,\n",
    "                    help=\"Config path for the learnable invariance, assuming it is included in one of the augmentations\")\n",
    "parser.add_argument('--no_random_cropping', action=\"store_true\",\n",
    "                    help=\"whether to use random cropping as a default transform\")\n",
    "parser.add_argument('--no_color_jitter', action=\"store_true\",\n",
    "                    help=\"whether to use color_jitter as a default transform\")\n",
    "parser.add_argument('--wandb', default=False, type=bool,\n",
    "                    help=\"whether to use wandb\")\n",
    "parser.add_argument('--min_entropy', default=-1, type=float,\n",
    "                    help='Minimum entropy to use in case of instance based augmentation')\n",
    "parser.add_argument('--max_entropy', default=-1, type=float,\n",
    "                    help='Maximum entropy to use in case of instance based augmentation')\n",
    "parser.add_argument('--test_time_aug_samples', default=1, type=int,\n",
    "                    help=\"Number of samples to use for test time data augmentation\")\n",
    "\n",
    "opt = parser.parse_args('--gpu 0 --val-shot 5 \\\n",
    "   --head ProtoNet --network ResNet --dataset CIFAR_FS \\\n",
    "   --no_color_jitter --no_random_cropping --Li_config_path ./InstaAug_module/configs/config_crop_supervised_cifar.yaml \\\n",
    "   --load ./experiments/CIFAR_10_shot_query_instacrop_3_3.5_new_scheduler/last_epoch.pth \\\n",
    "   --test_time_aug_samples 2 --query_aug instance'.split())\n",
    "\n"
   ]
  },
  {
   "cell_type": "code",
   "execution_count": 24,
   "metadata": {},
   "outputs": [
    {
     "name": "stdout",
     "output_type": "stream",
     "text": [
      "Loading CIFAR-FS dataset - phase val\n",
      "CIFAR_FS(phase=val, augment=null)\n"
     ]
    }
   ],
   "source": [
    "if opt.wandb:\n",
    "    wandb.init(project=\"330proj\", entity=\"erictang000\")\n",
    "\n",
    "valset = get_datasets(opt.dataset, 'val', opt)\n",
    "\n",
    "dloader_val = FewShotDataloader(valset, kway=opt.test_way, kshot=opt.val_shot, kquery=opt.val_query,\n",
    "                                batch_size=1, num_workers=1, epoch_size=opt.val_episode, shuffle=False, fixed=False)"
   ]
  },
  {
   "cell_type": "code",
   "execution_count": 25,
   "metadata": {},
   "outputs": [
    {
     "name": "stdout",
     "output_type": "stream",
     "text": [
      "using gpu: 0\n",
      "Features dimension: 32\n"
     ]
    }
   ],
   "source": [
    "set_gpu(opt.gpu)\n",
    "\n",
    "# Check whether or not to initialize instance augmentation module:\n",
    "if not opt.load:\n",
    "    print(\"Checkpoint file required\")\n",
    "    exit(0)\n",
    "state_dict = torch.load(opt.load)\n",
    "\n",
    "Li_configs={'li_flag': False}\n",
    "if (opt.support_aug and \"instance\" in opt.support_aug) or (opt.query_aug and \"instance\" in opt.query_aug) or (opt.shot_aug and \"instance\" in opt.shot_aug):\n",
    "    # initialize instance augmentation module\n",
    "\n",
    "    if opt.Li_config_path:\n",
    "        Li_configs=yaml.safe_load(open(opt.Li_config_path,'r'))\n",
    "    else:\n",
    "        print(\"instance module specified, but config not provided\")\n",
    "        exit(0)\n",
    "    instance_aug_module = learnable_invariance(Li_configs).to(DEVICE)\n",
    "    instance_aug_module.load_state_dict(state_dict[\"li\"])\n",
    "    instance_aug_module.eval()\n",
    "\n",
    "\n",
    "if (opt.support_aug and \"random_crop\" in opt.support_aug) or (opt.query_aug and \"random_crop\" in opt.query_aug) or (opt.shot_aug and \"random_crop\" in opt.shot_aug):\n",
    "    random_crop = transforms.Compose([\n",
    "        transforms.RandomResizedCrop(32, scale=[0.8, 1]),\n",
    "    ])\n",
    "state_dict = torch.load('./experiments/CIFAR_5_shot_query_cutmix/epoch_40.pth')\n",
    "(embedding_net, cls_head) = get_model(opt)\n",
    "embedding_net = embedding_net.to(DEVICE)\n",
    "embedding_net.load_state_dict(state_dict[\"embedding\"])\n",
    "cls_head = cls_head.to(DEVICE)\n",
    "cls_head.load_state_dict(state_dict[\"head\"])\n",
    "\n",
    "embedding_net.eval()\n",
    "cls_head.eval()\n",
    "\n",
    "max_val_acc = 0.0\n",
    "\n",
    "timer = Timer()\n",
    "x_entropy = torch.nn.CrossEntropyLoss()\n",
    "x_entropy_Li = torch.nn.CrossEntropyLoss(reduction='none')"
   ]
  },
  {
   "cell_type": "code",
   "execution_count": 26,
   "metadata": {},
   "outputs": [
    {
     "name": "stdout",
     "output_type": "stream",
     "text": [
      "The autoreload extension is already loaded. To reload it, use:\n",
      "  %reload_ext autoreload\n"
     ]
    }
   ],
   "source": [
    "%load_ext autoreload\n",
    "%autoreload 2"
   ]
  },
  {
   "cell_type": "code",
   "execution_count": 27,
   "metadata": {},
   "outputs": [],
   "source": [
    "\n",
    "# Evaluate on the validation split\n",
    "val_accuracies = []\n",
    "val_losses = []\n",
    "\n",
    "for i, batch in enumerate(dloader_val(opt.num_epoch), 1):\n",
    "    data_support, labels_support, _, data_query, labels_query, _ = [x.to(DEVICE) for x in batch]\n",
    "\n",
    "    test_n_support = opt.test_way * opt.val_shot\n",
    "    test_n_query = opt.test_way * opt.val_query\n",
    "\n",
    "    for method in opt.shot_aug:\n",
    "        if method == \"instance\":\n",
    "            data_support, labels_support, test_n_support, _, _ = shot_aug(data_support, labels_support, test_n_support, method, opt, instance_aug_module)\n",
    "        elif method == \"random_crop\":\n",
    "            data_support, labels_support, test_n_support = shot_aug(data_support, labels_support, test_n_support, method, opt, random_crop=random_crop)\n",
    "        else:\n",
    "            data_support, labels_support, test_n_support = shot_aug(data_support, labels_support, test_n_support, method, opt)\n",
    "    # ## test time augmentation\n",
    "    data_query_aug_all = []\n",
    "    if len(opt.query_aug) == 0:\n",
    "        data_query_aug_all = [data_query]\n",
    "    else:\n",
    "        for mi, query_method in enumerate(opt.query_aug):\n",
    "            ## instance augmentation\n",
    "            data_query_aug_all.append(data_query)\n",
    "            if \"instance\" in query_method:\n",
    "                for j in range(opt.test_time_aug_samples - 1):\n",
    "                    e, b = data_query.shape[0], data_query.shape[1]\n",
    "                    data_query_aug = data_query.view((-1, data_query.shape[2], data_query.shape[3], data_query.shape[4]))\n",
    "                    data_query_aug, _, _, _ = apply_instance_aug(instance_aug_module, data_query_aug)\n",
    "                    data_query_aug = data_query_aug.view((e, b, data_query.shape[2], data_query.shape[3], data_query.shape[4]))\n",
    "                    data_query_aug_all.append(data_query_aug)\n",
    "            elif \"random_crop\" in query_method:\n",
    "                for j in range(opt.test_time_aug_samples - 1):\n",
    "                    e, b = data_query.shape[0], data_query.shape[1]\n",
    "                    data_query_aug = data_query.view((-1, data_query.shape[2], data_query.shape[3], data_query.shape[4]))\n",
    "                    data_query_aug = random_crop(data_query_aug)\n",
    "                    data_query_aug = data_query_aug.view((e, b, data_query.shape[2], data_query.shape[3], data_query.shape[4]))\n",
    "                    data_query_aug_all.append(data_query_aug)\n",
    "    data_query_aug_all = torch.cat(data_query_aug_all, dim=0)\n",
    "\n",
    "    emb_support = embedding_net(data_support.reshape([-1] + list(data_support.shape[-3:])))\n",
    "    emb_support = emb_support.reshape(1, test_n_support, -1)\n",
    "    emb_query = embedding_net(data_query_aug_all.reshape([-1] + list(data_query_aug_all.shape[-3:])))\n",
    "    emb_query = emb_query.reshape(1, opt.test_time_aug_samples * test_n_query, -1)\n",
    "\n",
    "    logit_query = cls_head(emb_query, emb_support, labels_support, opt.test_way, opt.val_shot * opt.s_du)[0]\n",
    "    if opt.test_time_aug_samples > 1:\n",
    "        logit_query = logit_query.view(opt.test_time_aug_samples, test_n_query, -1).sum(0)\n",
    "        \n",
    "    loss = x_entropy(logit_query.reshape(-1, opt.test_way), labels_query.reshape(-1))\n",
    "    acc = count_accuracy(logit_query.reshape(-1, opt.test_way), labels_query.reshape(-1))\n",
    "\n",
    "    val_accuracies.append(acc.item())\n",
    "    val_losses.append(loss.item())\n",
    "    \n",
    "val_acc_avg = np.mean(np.array(val_accuracies))\n",
    "val_acc_ci95 = 1.96 * np.std(np.array(val_accuracies)) / np.sqrt(opt.val_episode)\n",
    "\n",
    "val_loss_avg = np.mean(np.array(val_losses))"
   ]
  },
  {
   "cell_type": "code",
   "execution_count": 28,
   "metadata": {},
   "outputs": [
    {
     "data": {
      "text/plain": [
       "74.62266840171814"
      ]
     },
     "execution_count": 28,
     "metadata": {},
     "output_type": "execute_result"
    }
   ],
   "source": [
    "val_acc_avg"
   ]
  },
  {
   "cell_type": "code",
   "execution_count": 29,
   "metadata": {},
   "outputs": [
    {
     "data": {
      "text/plain": [
       "0.39235224935983715"
      ]
     },
     "execution_count": 29,
     "metadata": {},
     "output_type": "execute_result"
    }
   ],
   "source": [
    "val_acc_ci95"
   ]
  },
  {
   "cell_type": "code",
   "execution_count": null,
   "metadata": {},
   "outputs": [
    {
     "data": {
      "text/plain": [
       "torch.Size([3, 32, 32])"
      ]
     },
     "execution_count": 37,
     "metadata": {},
     "output_type": "execute_result"
    }
   ],
   "source": [
    "data_query_aug[0][0].shape"
   ]
  },
  {
   "cell_type": "code",
   "execution_count": null,
   "metadata": {},
   "outputs": [
    {
     "name": "stderr",
     "output_type": "stream",
     "text": [
      "Clipping input data to the valid range for imshow with RGB data ([0..1] for floats or [0..255] for integers).\n"
     ]
    },
    {
     "data": {
      "text/plain": [
       "<matplotlib.image.AxesImage at 0x7f417c5b3b20>"
      ]
     },
     "execution_count": 63,
     "metadata": {},
     "output_type": "execute_result"
    },
    {
     "data": {
      "image/png": "[encoded data removed]",
      "text/plain": [
       "<Figure size 432x288 with 1 Axes>"
      ]
     },
     "metadata": {
      "needs_background": "light"
     },
     "output_type": "display_data"
    }
   ],
   "source": [
    "plt.imshow(np.transpose(data_query_aug_all[5][0,1].detach().cpu().numpy(), (1, 2, 0)))"
   ]
  },
  {
   "cell_type": "code",
   "execution_count": null,
   "metadata": {},
   "outputs": [
    {
     "name": "stderr",
     "output_type": "stream",
     "text": [
      "Clipping input data to the valid range for imshow with RGB data ([0..1] for floats or [0..255] for integers).\n"
     ]
    },
    {
     "data": {
      "text/plain": [
       "<matplotlib.image.AxesImage at 0x7f417c7c16d0>"
      ]
     },
     "execution_count": 58,
     "metadata": {},
     "output_type": "execute_result"
    },
    {
     "data": {
      "image/png": "[encoded data removed]",
      "text/plain": [
       "<Figure size 432x288 with 1 Axes>"
      ]
     },
     "metadata": {
      "needs_background": "light"
     },
     "output_type": "display_data"
    }
   ],
   "source": [
    "plt.imshow(np.transpose(data_query[0,1].detach().cpu().numpy(), (1, 2, 0)))"
   ]
  },
  {
   "cell_type": "code",
   "execution_count": null,
   "metadata": {},
   "outputs": [],
   "source": []
  }
 ],
 "metadata": {
  "kernelspec": {
   "display_name": "Python 3.8.15 ('base')",
   "language": "python",
   "name": "python3"
  },
  "language_info": {
   "codemirror_mode": {
    "name": "ipython",
    "version": 3
   },
   "file_extension": ".py",
   "mimetype": "text/x-python",
   "name": "python",
   "nbconvert_exporter": "python",
   "pygments_lexer": "ipython3",
   "version": "3.8.12"
  },
  "orig_nbformat": 4,
  "vscode": {
   "interpreter": {
    "hash": "d1ab61a329566cc13b7878ae693f1437cd38df5189cbdd89ad8e228bdbc8c6fd"
   }
  }
 },
 "nbformat": 4,
 "nbformat_minor": 2
}
